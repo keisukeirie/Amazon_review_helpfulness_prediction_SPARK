{
 "cells": [
  {
   "cell_type": "code",
   "execution_count": 2,
   "metadata": {},
   "outputs": [],
   "source": [
    "from __future__ import unicode_literals\n",
    "import numpy as np\n",
    "import pandas as pd\n",
    "import matplotlib.pyplot as plt\n",
    "import time\n",
    "import json\n",
    "import gzip\n",
    "import spacy\n",
    "#import textacy\n",
    "%matplotlib inline\n",
    "np.random.seed(32113)\n",
    "import pickle\n",
    "from sklearn.decomposition import NMF\n",
    "from nltk.tokenize import word_tokenize\n",
    "from nltk.corpus import stopwords\n",
    "from nltk.stem.porter import PorterStemmer\n",
    "from nltk.stem.snowball import SnowballStemmer\n",
    "from nltk.stem.wordnet import WordNetLemmatizer\n",
    "from sklearn.feature_extraction.text import CountVectorizer, TfidfVectorizer\n",
    "from sklearn.feature_extraction.stop_words import ENGLISH_STOP_WORDS\n",
    "from sklearn.decomposition import NMF\n",
    "from nltk.corpus import stopwords\n",
    "from spacy.en import English\n",
    "from sklearn.grid_search import GridSearchCV\n",
    "#import xgboost as XGB\n",
    "import string\n",
    "parser = English()\n",
    "import data_prep_for_test_run as dp\n",
    "import math"
   ]
  },
  {
   "cell_type": "markdown",
   "metadata": {},
   "source": [
    "---------------------------"
   ]
  },
  {
   "cell_type": "markdown",
   "metadata": {},
   "source": [
    "## Loading data"
   ]
  },
  {
   "cell_type": "code",
   "execution_count": 3,
   "metadata": {
    "collapsed": true
   },
   "outputs": [],
   "source": [
    "# loading reviews and meta data\n",
    "path = './reviews_Video_Games.json.gz'\n",
    "meta_path = './meta_Video_Games.json.gz'"
   ]
  },
  {
   "cell_type": "markdown",
   "metadata": {},
   "source": [
    "### Before creating  a model:\n",
    "In order to create an accurate model, we want to filter reviews.  \n",
    "we filter review by looking at categories of product in meta data. \n",
    "  \n",
    "Below are codes to check products associated with review data.\n",
    "It displays types of categories and number of 'Home & Kitchen' products that are associated with each category.  \n",
    "As you can see, there are many 'Home & kitchen' products  \n",
    "that are associated with categories that are unrelated to Home & Kitchen. \n",
    "By looking at this list, we can decide how to filter products.  \n",
    "  \n",
    "In this case, I would filter out categories where total number is less than 2000.  \n",
    "If you want to strictly work on Home & kitchen products, I will filter out categories less than 10000.  \n",
    "\n",
    "Once we merge review data and meta data, we will filter out reviews by these categories."
   ]
  },
  {
   "cell_type": "code",
   "execution_count": null,
   "metadata": {},
   "outputs": [],
   "source": [
    "#run this code if you do not know if products belong to unrelated categories\n",
    "df_test = dp.Data_prep1(path)\n",
    "meta = dp.getDF(meta_path)\n",
    "meta = dp.add_meta_info(df_test,meta,'Video Games',50,True)"
   ]
  },
  {
   "cell_type": "markdown",
   "metadata": {},
   "source": [
    "------------"
   ]
  },
  {
   "cell_type": "markdown",
   "metadata": {},
   "source": [
    "## Preparing train and test data"
   ]
  },
  {
   "cell_type": "markdown",
   "metadata": {},
   "source": [
    "### Merging data, Cleaning Meta data  \n",
    "the function **df_prep1** will do three things for you:  \n",
    "1. Cleaning meta data for you (gets rid of Nan values)  \n",
    "2. Add features created from Meta data (categories, sales ranking within the categories and price)   \n",
    "3. Filter out categories that are not associated with the data topics  \n",
    "4. Merge meta data with review datas and output pandas dataframe \n",
    "5. reassign values of 'helpful' features into 2 values and calculate percentage of positive votes on a review.  \n",
    "  \n",
    "inputs:  \n",
    "**dp.df_prep1( a , b , c , d )**  \n",
    "a = path of your review data (json.gz format)  \n",
    "b = path of your meta data (json.gz format)  \n",
    "c = topic keys: category names that every product in your dataset is associated with.  \n",
    "for example: 'Video Games', 'Home &amp; Kitchen' etc.  \n",
    "d = filtering out categoiry if the total number of product associated with that category is less than this number.  "
   ]
  },
  {
   "cell_type": "code",
   "execution_count": 4,
   "metadata": {},
   "outputs": [
    {
     "name": "stdout",
     "output_type": "stream",
     "text": [
      "average price for Electronics is $33.51\n",
      "average price for Video Games is $61.456088411\n"
     ]
    },
    {
     "name": "stderr",
     "output_type": "stream",
     "text": [
      "data_prep_for_test_run.py:891: SettingWithCopyWarning: \n",
      "A value is trying to be set on a copy of a slice from a DataFrame.\n",
      "Try using .loc[row_indexer,col_indexer] = value instead\n",
      "\n",
      "See the caveats in the documentation: http://pandas.pydata.org/pandas-docs/stable/indexing.html#indexing-view-versus-copy\n",
      "  df_topic['price'] = df_topic['price'].fillna(average_val)\n"
     ]
    },
    {
     "name": "stdout",
     "output_type": "stream",
     "text": [
      "average price for Software is $23.8273076923\n",
      "--- 312.00524807 seconds ---\n"
     ]
    }
   ],
   "source": [
    "df= dp.df_prep1(path, meta_path,'Video Games',50)\n",
    "# should spit out average price for each category.  \n",
    "# these price will be filling Nan under price feature"
   ]
  },
  {
   "cell_type": "code",
   "execution_count": null,
   "metadata": {},
   "outputs": [],
   "source": [
    "df.columns"
   ]
  },
  {
   "cell_type": "code",
   "execution_count": null,
   "metadata": {},
   "outputs": [],
   "source": [
    "df"
   ]
  },
  {
   "cell_type": "markdown",
   "metadata": {},
   "source": [
    "### Split train and test dataset:\n",
    "In NLP prediction model, it is safe to run train and test dataset before running model building functions.  \n",
    "Here, we are randomly selecting 85% of data as a train dataset.  \n",
    "and assign rest of the data as test dataset.  "
   ]
  },
  {
   "cell_type": "code",
   "execution_count": 5,
   "metadata": {
    "collapsed": true
   },
   "outputs": [],
   "source": [
    "ind = df.index\n",
    "random_ind = np.random.choice(list(ind), int(len(df)*.85), replace=False)\n",
    "df_train = df.loc[list(random_ind)]\n",
    "test_ind = [i for i in ind if i not in random_ind]\n",
    "df_test = df.loc[test_ind]"
   ]
  },
  {
   "cell_type": "code",
   "execution_count": 7,
   "metadata": {
    "collapsed": true
   },
   "outputs": [],
   "source": [
    "## if you want to save test and training dataframe...\n",
    "#df_test.to_pickle(\"./HomeandKitchen_df_test_15percent.pkl\")\n",
    "#df_train.to_pickle(\"./HomeandKitchen_df_train_85percent.pkl\")"
   ]
  },
  {
   "cell_type": "markdown",
   "metadata": {},
   "source": [
    "### tfidf model\n",
    "**df_prep_train1** function creates tfidf matrix and tfidf sklearn model.  \n",
    "It also saves tfidf matrix and tfidf skearn model as a pickle file in case something happens later.  \n",
    "  \n",
    "inputs:\n",
    "**df_prep_train1( a , b , c(optional) )**  \n",
    "a = your training dataframe created above  \n",
    "b = filename/keyword. this string will be used to name tfidf matrix and tfidf sklearn model pickle file.  \n",
    "c = a list containing parameters of TfidfVectorizer sklearn class. this is optional.  \n",
    "default values for this input is:  tfidf_set = [2,0.95,10000,'l2']  \n",
    "  \n",
    "where TfidfVectorizer(stop_words=STOPLIST, tokenizer=lemma, min_df=tfidf_set[0], max_df=tfidf_set[1], max_features =tfidf_set[2], norm=tfidf_set[3])  \n",
    "  \n",
    "visit Sklearn web for more details.     \n",
    "http://scikit-learn.org/stable/modules/generated/sklearn.feature_extraction.text.TfidfVectorizer.html"
   ]
  },
  {
   "cell_type": "code",
   "execution_count": 6,
   "metadata": {},
   "outputs": [
    {
     "name": "stdout",
     "output_type": "stream",
     "text": [
      "--- 121.213349819 seconds ---\n"
     ]
    }
   ],
   "source": [
    "tfidf_matrix, tfidf_model  = dp.df_prep_train1(df_train,'Video Games')"
   ]
  },
  {
   "cell_type": "markdown",
   "metadata": {},
   "source": [
    "### before running NMF, check your elbow!\n",
    "the function **NMF_elbow** will give you stats about reconstruction error for different K component.  \n",
    "you want to chose right K where slope changes significantly.  \n",
    "Since the data we are using does not have obvious elbow,  \n",
    "I added error difference between K and error of each K.  \n",
    "\n",
    "inputs:  \n",
    "**NMF_elbow( a , b )**  \n",
    "a = your tfidf matrix  \n",
    "b = range of K (list)  "
   ]
  },
  {
   "cell_type": "code",
   "execution_count": 6,
   "metadata": {},
   "outputs": [
    {
     "name": "stdout",
     "output_type": "stream",
     "text": [
      "calculated in 11.8010890484 seconds \n",
      "\n",
      "\n",
      "error difference\n",
      "0.275268431994\n",
      "0.187867672658\n",
      "0.154415273565\n",
      "0.133671663843\n",
      "0.138395448223\n",
      "0.112929126418\n",
      "0.120690769262\n",
      "0.105908771244\n",
      "0.0912280233686\n",
      "0.102247955315\n",
      "\n",
      "\n",
      "error k = 1: 58.1219805649\n",
      "error k = 2: 57.8467121329\n",
      "error k = 3: 57.6588444602\n",
      "error k = 4: 57.5044291867\n",
      "error k = 5: 57.3707575228\n",
      "error k = 6: 57.2323620746\n",
      "error k = 7: 57.1194329482\n",
      "error k = 8: 56.9987421789\n",
      "error k = 9: 56.8928334077\n",
      "error k = 10: 56.8016053843\n",
      "error k = 11: 56.699357429\n"
     ]
    },
    {
     "data": {
      "image/png": "[encoded data removed]",
      "text/plain": [
       "<matplotlib.figure.Figure at 0x226cd2f10>"
      ]
     },
     "metadata": {},
     "output_type": "display_data"
    }
   ],
   "source": [
    "dp.NMF_elbow(tfidf_matrix, range(1,12))"
   ]
  },
  {
   "cell_type": "markdown",
   "metadata": {},
   "source": [
    "### Adding NMF results and tfidf results onto training dataset\n",
    "**df_prep_train2** function does lots of things here.\n",
    "1. calculate NMF from the tfidf matrix that you created from df_prep_train1\n",
    "2. add NMF results as features (predict percentage values for each NMF topics)\n",
    "3. print outs top 20 words that are highly associated with each NMF topics.\n",
    "4. add tfidf results to training dataset  \n",
    "(you can select how many words you want to add to the data frame by choosing values for max_feat (e))  \n",
    "5. saves resulting training dataframe, NMF model and tfidf feature model as pickle files\n",
    "\n",
    "inputs:  \n",
    "**df_prep_train2**( a , b , c , d , e (opt) , f (opt), g (opt))  \n",
    "a = training dataframe.  \n",
    "b = filename/keyword. this string will be used to name NMF model and tfidf feature model pickle file.  \n",
    "c = tfidf matrix.\n",
    "d = tfidf model.  \n",
    "e = max feature (optional). default value = 1000. \n",
    "will create tfidf model with top 1000 (default) words   \n",
    "and create features of these top 1000 words in your training dataframe.  \n",
    "f = NMF parameters (optional). default values NMF_set = [6,'cd',0.1,0.5].  \n",
    "where NMF(n_components=NMF_set[0], solver=NMF_set[1], random_state=32113, alpha=NMF_set[2], l1_ratio=NMF_set[3])  \n",
    "visit Sklearn web for more details.  \n",
    "http://scikit-learn.org/stable/modules/generated/sklearn.decomposition.NMF.html  \n",
    "\n",
    "g = tfidf parameters (optional). default values = [2,0.95,10000,'l2'].  \n",
    "  \n",
    "where TfidfVectorizer(stop_words=STOPLIST, tokenizer=lemma, min_df=tfidf_set[0], max_df=tfidf_set[1], max_features =tfidf_set[2], norm=tfidf_set[3])  \n",
    "visit Sklearn web for more details.  \n",
    "http://scikit-learn.org/stable/modules/generated/sklearn.feature_extraction.text.TfidfVectorizer.html  \n",
    "(3rd value will be replaced by max feature (e))  "
   ]
  },
  {
   "cell_type": "code",
   "execution_count": 7,
   "metadata": {
    "scrolled": true
   },
   "outputs": [
    {
     "name": "stdout",
     "output_type": "stream",
     "text": [
      "Topic #0:\n",
      "game play like good make time character really player new fun thing look story feel say level great think want\n",
      "Topic #1:\n",
      "xbox ps3 360 gb drive console microsoft sony buy hard cable kinect disc ray blu download playstation ps2 slim usb\n",
      "Topic #2:\n",
      "wii u nintendo remote sport game motion nunchuck buy control zelda use u. gamecube fit tv console kid board bundle\n",
      "Topic #3:\n",
      "drm game ea steam install buy server play purchase pay internet computer software securom customer amazon pc download product money\n",
      "Topic #4:\n",
      "exercise workout fitness board balance weight fit yoga routine trainer cardio kinect wii program gym use training active calorie body\n",
      "Topic #5:\n",
      "mario super nintendo ds kart luigi bro game galaxy 3d 3ds 64 new bowser brother bundle classic princess peach mini\n",
      "Topic #6:\n",
      "sim sims expansion new pack city ea house 3 2 career family object maxis pet create like build thing trait\n",
      "Topic #7:\n",
      "controller charge button battery use usb plug wireless work driver rumble pad dualshock analog stick pc device cable remote ps3\n",
      "Topic #8:\n",
      "dance song guitar band mode zumba drum ddr sing play fun rock kid hero music dancing kinect sweat dancer version\n",
      "Topic #9:\n",
      "ps4 sony console xbox amazon box good gen blue light replacement hdmi graphic review star doa buy look work entertainment\n",
      "--end--\n",
      "--- 118.188269854 seconds ---\n"
     ]
    }
   ],
   "source": [
    "df_train_new,NMF_model,TFIDF_feat_model = dp.df_prep_train2(df_train, 'Video Games', tfidf_matrix, tfidf_model,1000, [10,'cd',0.1,0.5])"
   ]
  },
  {
   "cell_type": "code",
   "execution_count": 2,
   "metadata": {
    "collapsed": true
   },
   "outputs": [],
   "source": [
    "## in case you need to load each model, you can load models here\n",
    "\n",
    "## df_prep1/train-test split result\n",
    "#df_train = pd.read_pickle('./HomeandKitchen_df_train_85percent.pkl')\n",
    "#df_test = pd.read_pickle('./HomeandKitchen_df_test_15percent.pkl')\n",
    "\n",
    "## df_prep_train1 results\n",
    "# with open(r\"HomeAndKitchen_tfidf_matrix.pickle\", \"rb\") as input_file:\n",
    "#     tfidf_matrix = pickle.load(input_file)\n",
    "# with open(r\"HomeAndKitchen_tfidf_model.pickle\", \"rb\") as input_file:\n",
    "#     tfidf_model= pickle.load(input_file)\n",
    "\n",
    "## df_prep_train2 results\n",
    "df_train_new = pd.read_pickle('./preped_HomeAndKitchen_max_feature1000.pkl')\n",
    "# with open('HomeAndKitchen_NMF_model.pickle', \"rb\") as input_file:\n",
    "#     NMF_model = pickle.load(input_file)\n",
    "# with open(r\"HomeAndKitchen_tfidf_feat_model.pickle\", \"rb\") as input_file:\n",
    "#     TFIDF_feat_model= pickle.load(input_file)\n",
    "df_test_new = pd.read_pickle('./preped_HomeAndKitchen_df_test.pkl')"
   ]
  },
  {
   "cell_type": "markdown",
   "metadata": {},
   "source": [
    "### Preparing test dataset\n",
    "\n",
    "Now we want to prepare test dataset.  \n",
    "I simply used MNF and tfidf models of training dataset to transform test dataset.  \n",
    "\n",
    "\n",
    "**df_prep_test** function adds features for test data.  \n",
    "It uses transform method of NMF and tfidf models that we just trained with training dataset.  \n",
    "The function outputs test dataframe which contains same amount of features as training dataframe.  \n",
    "It also saves output dataframe as a pickle file.  \n",
    "\n",
    "inputs:  \n",
    "**df_prep_test**( a , b , c , d , e )  \n",
    "a = test dataframe we created previously. (read Split train and test dataset section above)  \n",
    "b = tfidf model trained with training dataframe.  \n",
    "c = NMF model that was trained with training dataframe.\n",
    "d = second tfidf model that is used to create tfidf term features.  \n",
    "e = filename/keywords used as a name of pickle file.  "
   ]
  },
  {
   "cell_type": "code",
   "execution_count": 8,
   "metadata": {},
   "outputs": [
    {
     "name": "stdout",
     "output_type": "stream",
     "text": [
      "          reviewerID        asin  \\\n",
      "32     APGAQX4VA5SAX  B0000296YH   \n",
      "1637   A74TA8X5YQ7NE  B001B5U80K   \n",
      "1811  A1SB9BNNGKNX2Z  B001O3066U   \n",
      "3735  A3NPSVM5H907RF  B009S4JZKK   \n",
      "1     A15C05TWM2J5PL  B00000DMB3   \n",
      "2      ACQDEUA5ECO7J  B00000DMB3   \n",
      "11    A3R6DWGDCLH7IY  B00000JRSB   \n",
      "13    A1046G79VW4NKN  B00000JRSB   \n",
      "14    A3OBL19DP3UR9H  B00000JRSB   \n",
      "19    A1AP90K9PG0YQ7  B00000K4KT   \n",
      "24    A2BO5HRT9HFWAG  B00001IVRD   \n",
      "37    A31BO23GECXU13  B00002NDRL   \n",
      "42    A2UTTRGMOVMR6U  B00002S6CC   \n",
      "45    A21X68W8SJA3T4  B00002S6CC   \n",
      "50    A2B5XH474FI20T  B00002SU5D   \n",
      "72    A35RDX6W4CINQ9  B00004T1M7   \n",
      "89    A3N1V8LIFT0RU6  B00004VP4M   \n",
      "91     AJSVA9Y3UVXAJ  B00004WKHO   \n",
      "96    A26BY28XSBPBNU  B00004YRPD   \n",
      "111    AQ40L2YGV7C42  B000059S8D   \n",
      "124   A2RRVDJN4VVQ5J  B00005LABK   \n",
      "126   A2W3H2FFKN330R  B00005LBHM   \n",
      "131   A2ES7IT00AP3F1  B00005MDZY   \n",
      "135    AQ40L2YGV7C42  B00005N6ZL   \n",
      "166   A3OU7B1W9Y3JBH  B00005R5PO   \n",
      "173    ABUWRGAW6CWP7  B00005TNI6   \n",
      "179   A3CFSQ5QMBU32V  B00005UWMC   \n",
      "184    AQD80XZCX40QF  B00005V9Q1   \n",
      "187    AVQ7Z71AB9OM8  B000062SSB   \n",
      "192   A15UXO3PDUOGJY  B00006663Z   \n",
      "...              ...         ...   \n",
      "514   A2KGO6LUQ42ZLS  B0002Y2XXQ   \n",
      "519   A3832HPAY5CMN7  B0002Y2XXQ   \n",
      "523   A1HWZ62CRDHAAO  B000300HJQ   \n",
      "524   A29DRVRIJ9U3F8  B000300HK0   \n",
      "528   A1O26YWZJ82P68  B00030GSJY   \n",
      "534   A3LY7OIIWTV14F  B00063BLG8   \n",
      "540    A6VS5QLJ3X0UX  B00068O278   \n",
      "546   A3SD4CFPERCANZ  B0006B98DI   \n",
      "556   A3V6Z4RCDGRC44  B0007GBBHI   \n",
      "561   A1P4F6HIXU6WYE  B0007PNEGA   \n",
      "571   A1QV8TEG5LVSQW  B0007XMZ8K   \n",
      "573   A33693RRRFK55Q  B0007ZD79E   \n",
      "575   A1XE2XBK7T46VR  B0008EZDDM   \n",
      "576   A3J5KL0JUZMBT3  B0008EZDDM   \n",
      "579   A16RMJ937TGWU9  B0008GLHLW   \n",
      "585   A1ELM0GEXEAM79  B0009A4EVM   \n",
      "595   A3V6Z4RCDGRC44  B0009I6S0Y   \n",
      "602    AEOAMS0G96E8B  B0009PQCSU   \n",
      "609    A9998E2ZCHZAG  B0009UBR3K   \n",
      "632   A230X6O24Y82LL  B0009VXBAQ   \n",
      "648   A3B20R4ZAH0Y2Y  B0009W8QB4   \n",
      "658   A1NHQH6ZI2PV3Z  B0009Z3K3U   \n",
      "659   A2YN1IQT2CWKCB  B0009Z3MGU   \n",
      "662   A1R2IXGESXQRWW  B0009Z3MQK   \n",
      "663   A1PX45H8Q9Q4SJ  B0009Z3MQK   \n",
      "671    A3ZC3AO36WQHD  B000A76ZNO   \n",
      "676   A3SHMFQU8LFU5Q  B000ANYFVM   \n",
      "678   A3W4D8XOGLWUN5  B000AQA9UA   \n",
      "692   A2PXOP8AOGXQCO  B000B5MV6A   \n",
      "704    A8PS6YTA2Y0UX  B000B6MLSC   \n",
      "\n",
      "                                             reviewText  overall  \\\n",
      "32    This is a great piece of work.  All articles, ...      4.0   \n",
      "1637  This game sure comes with some serious pedigre...      5.0   \n",
      "1811  I installed the software onto a new HP desktop...      5.0   \n",
      "3735  I ordered this simulator thinking that the pre...      1.0   \n",
      "1     ...  I purchased the game for him and he waite...      1.0   \n",
      "2     Seriously, this ranks up with some of the wors...      1.0   \n",
      "11    Look at most of the 5 star reviews, they basic...      1.0   \n",
      "13    Boy, let me tell you, this games is seriously ...      1.0   \n",
      "14    I dont like this game and have to say that alo...      1.0   \n",
      "19    Haven't had a person around to play Scrabble w...      5.0   \n",
      "24    This game is terrible, the graphics stink, the...      1.0   \n",
      "37    I was very disappointed because the game is no...      4.0   \n",
      "42    I would love to own this game just as much as ...      5.0   \n",
      "45    I was really excited about getting Who Wants t...      2.0   \n",
      "50    I have played a lot of Star Trek games and thi...      5.0   \n",
      "72    For those who don't have SimCity 3000 already,...      4.0   \n",
      "89    the expansion pack features 5 new civ's, maya,...      5.0   \n",
      "91    This game surpasses every other game made for ...      5.0   \n",
      "96    For his birthday, my son received this case al...      3.0   \n",
      "111   I've had this game for less than 24 hours so I...      5.0   \n",
      "124   I have played the first jedi knight, and I tho...      1.0   \n",
      "126   1.The Best thing about this game is the new ba...      5.0   \n",
      "131   Although this game is not being released in th...      5.0   \n",
      "135   I've had the game since the day it came out. W...      5.0   \n",
      "166   I am a 40-something gamer and as an adult game...      5.0   \n",
      "173   My first impression of the game was that it wo...      5.0   \n",
      "179   If you are going on a trip or your TV is in th...      5.0   \n",
      "184   \"This Battle.net Beta includes all four of the...      5.0   \n",
      "187   Pros:1. metal and sturdy (except throttle leve...      2.0   \n",
      "192   Chessmaster 9000 has a lot of things going for...      3.0   \n",
      "...                                                 ...      ...   \n",
      "514   WORST GAME EVER MADE WOOOOOOOOOORST DONT BUY I...      1.0   \n",
      "519   Usually when a game is rated &quot;E&quot; for...      1.0   \n",
      "523   I was going to resist getting Zoo Tycoon 2, ha...      5.0   \n",
      "524   I've waited with baited breath for Zoo Tycoon ...      5.0   \n",
      "528   As a previous owner of the X45 flight control ...      5.0   \n",
      "534   The price as the time writing this review is $...      4.0   \n",
      "540   This game is so much fun it is difficult to ex...      5.0   \n",
      "546   This game is one of the titles that prompted m...      4.0   \n",
      "556   I'm a huge fan of Fable, Populous and Black & ...      5.0   \n",
      "561   From the minute I met Maya, my new personal tr...      5.0   \n",
      "571   One day, I recalled fond memories of playing H...      4.0   \n",
      "573   Look, San Andreas is a great game, no question...      2.0   \n",
      "575   Quite possibly the very best idea for a MMORPG...      1.0   \n",
      "576   For those that were back on Everquest during t...      1.0   \n",
      "579   This game/sim is great fun.  It has a truly dy...      5.0   \n",
      "585   A sequel that everyone's been waiting for, for...      5.0   \n",
      "595   We really love the Ratchet and Clank series of...      4.0   \n",
      "602   Playing Dungeon Siege 2 is like playing Dungeo...      4.0   \n",
      "609   We are americans living in japan and currently...      5.0   \n",
      "632   The Wii is without a doubt the worst of the th...      1.0   \n",
      "648   My 7 year old daughter and I have been searchi...      5.0   \n",
      "658   + Now has 50 songs+ You can design and create ...      5.0   \n",
      "659   First of all, I think this game is great.  It'...      5.0   \n",
      "662   Animal Crossing was always a sleeper hit on th...      5.0   \n",
      "663   I purchased Animal Crossing about a week ago f...      1.0   \n",
      "671   When I bought it I was hoping for Morrowind wi...      3.0   \n",
      "676   I wasn't sure about this game when I first hea...      5.0   \n",
      "678   The past few years have really shown that Nint...      4.0   \n",
      "692   Nintendo has presented us with a tough choice:...      5.0   \n",
      "704   Bought two of the blue ones.  Unboxed 'em, and...      1.0   \n",
      "\n",
      "                                                summary  helpful_total_review  \\\n",
      "32         Very useful; but get DVD-ROM version instead                 294.0   \n",
      "1637                         DIABLO III: THE PG VERSION                 139.0   \n",
      "1811                     Works fine for me in Windows 7                 159.0   \n",
      "3735  Misrepresented, complicated, and internet-depe...                 139.0   \n",
      "1                         Wrong information on web page                 149.0   \n",
      "2                       The biggest waste of money ever                 177.0   \n",
      "11                     overrated.......I have to agree.                 198.0   \n",
      "13         oh boy, this game is the most overhyped game                 121.0   \n",
      "14                                a game that is so bad                 163.0   \n",
      "19                           It's great!  I'm addicted.                 132.0   \n",
      "24                         Would rather eat candy canes                 123.0   \n",
      "37          Things they should tell you before you buy!                 111.0   \n",
      "42     The TV show is great just like the computer game                 293.0   \n",
      "45                                         disappointed                 467.0   \n",
      "50                                Great Star Trek game!                 101.0   \n",
      "72             Unlimited for old and new players alike!                 109.0   \n",
      "89                   A great expansion for a great game                 186.0   \n",
      "91      Harvest Moon: The Best Video Game in the World!                 111.0   \n",
      "96    A PRACTICAL PURCHASE: Transport all the Gamebo...                 174.0   \n",
      "111              A &quot;Must Have&quot; For Sims Fans!                 154.0   \n",
      "124                               How Good Games Go Bad                 103.0   \n",
      "126                   The Real Deal For Pokemon Crystal                 288.0   \n",
      "131   Hands down, the best current game for the Game...                 167.0   \n",
      "135   Just When You Think the Sims Can't Get Any Better                 227.0   \n",
      "166                       Great Gaming For Adult Gamers                 110.0   \n",
      "173                                          Incredible                 280.0   \n",
      "179                               This is great product                 224.0   \n",
      "184                              Warcraft 3 Beta Review                 146.0   \n",
      "187                                     All show, no go                 126.0   \n",
      "192                 A good program that could be better                 197.0   \n",
      "...                                                 ...                   ...   \n",
      "514                               BAD GAMEEEEEEEEEEEEEE                 120.0   \n",
      "519                   Rated &quot;E&quot; for Everyone?                 154.0   \n",
      "523                                 Lots of Improvement                 430.0   \n",
      "524                                 The Next Generation                 110.0   \n",
      "528     Excellent HOTAS system, great bang for the buck                 137.0   \n",
      "534                                         Great price                 414.0   \n",
      "540                                           SUPERB!!!                 134.0   \n",
      "546   A few issues to an otherwise fun and unique game!                 116.0   \n",
      "556          Great God Game with Bits of Creatures, AoE                 203.0   \n",
      "561   Yourself Fitness is a fantastic program for he...                 145.0   \n",
      "571                               Ah...Good Ol' HOMM 3!                 101.0   \n",
      "573          They still have the nerve to charge $50???                 105.0   \n",
      "575                                    Wasted Potential                 282.0   \n",
      "576   Broken promises & poor management is killing SWG.                 158.0   \n",
      "579            Great Fun and Scalable to Varying Levels                 148.0   \n",
      "585    An excellent game... even better than the first!                 199.0   \n",
      "595              Fun Ratchet World, Nice Co-Op Gameplay                 136.0   \n",
      "602         Same hack-slash routine..a bug..decent game                 135.0   \n",
      "609              This game is so much fun and adorable!                 101.0   \n",
      "632   Wii, inexpensive... like that's ever going to ...                 123.0   \n",
      "648   Awesome entertainment value, great for kids an...                 118.0   \n",
      "658           A great game only gets better and better!                 294.0   \n",
      "659           Addressing some complaints about the game                 114.0   \n",
      "662            Animal Crossing returns with a vengance!                 716.0   \n",
      "663                                           What the?                 109.0   \n",
      "671                          Fun but very disappointing                 135.0   \n",
      "676                             Sims 2 Works Well on DS                 180.0   \n",
      "678                                   The Party Returns                 182.0   \n",
      "692                                 Best handheld ever!                 123.0   \n",
      "704               Utter crap from one of the suppliers.                 124.0   \n",
      "\n",
      "      helpful_percent  text_length   price  rank_values        ...         \\\n",
      "32               0.96        515.0   37.99        14531        ...          \n",
      "1637             0.96       5460.0   19.99         1124        ...          \n",
      "1811             0.99       2261.0   24.89          445        ...          \n",
      "3735             0.82       3228.0   29.99         1756        ...          \n",
      "1                0.03        453.0   39.99          944        ...          \n",
      "2                0.05        853.0   39.99          944        ...          \n",
      "11               0.49       1209.0  179.99         2107        ...          \n",
      "13               0.49        394.0  179.99         2107        ...          \n",
      "14               0.49        898.0  179.99         2107        ...          \n",
      "19               0.98        699.0    7.47        23142        ...          \n",
      "24               0.02        515.0   19.99         2899        ...          \n",
      "37               0.97        324.0   67.99        22113        ...          \n",
      "42               0.16         65.0    3.00        12831        ...          \n",
      "45               0.97        335.0    3.00        12831        ...          \n",
      "50               0.56        190.0   39.99        17214        ...          \n",
      "72               0.94       1026.0   29.95         9337        ...          \n",
      "89               0.92       1270.0   11.49        12538        ...          \n",
      "91               0.88       1213.0   75.00         6759        ...          \n",
      "96               0.94        442.0   61.46        63277        ...          \n",
      "111              0.99       4157.0  124.99         8536        ...          \n",
      "124              0.02        452.0   19.99         7232        ...          \n",
      "126              0.91       2675.0  424.24         1459        ...          \n",
      "131              0.92       1270.0   99.95         2083        ...          \n",
      "135              0.99       5492.0   14.99         8953        ...          \n",
      "166              0.95       1131.0   19.99         2749        ...          \n",
      "173              0.79        823.0   44.97          645        ...          \n",
      "179              0.96        907.0   36.80        14959        ...          \n",
      "184              0.90       2991.0   29.99         6337        ...          \n",
      "187              0.90       1580.0   44.88       131442        ...          \n",
      "192              0.98       4480.0   89.99        19224        ...          \n",
      "...               ...          ...     ...          ...        ...          \n",
      "514              0.03        144.0   29.99         3244        ...          \n",
      "519              0.09        404.0   29.99         3244        ...          \n",
      "523              0.98       5088.0    9.99         8724        ...          \n",
      "524              0.95       4668.0   24.93        52924        ...          \n",
      "528              0.91       2762.0  129.95       131442        ...          \n",
      "534              0.81        611.0   58.87          593        ...          \n",
      "540              0.93       1858.0   12.99         5498        ...          \n",
      "546              0.97       3257.0   19.99        20884        ...          \n",
      "556              0.94       3155.0   30.98         1706        ...          \n",
      "561              0.99       2830.0   29.68        29854        ...          \n",
      "571              0.94        403.0   10.99        13372        ...          \n",
      "573              0.22       1094.0   69.95         3430        ...          \n",
      "575              0.88       5024.0   49.95        10583        ...          \n",
      "576              0.86       5772.0   49.95        10583        ...          \n",
      "579              0.97        866.0   84.60         8362        ...          \n",
      "585              0.93       2099.0   52.50          435        ...          \n",
      "595              0.95       2191.0   19.99         3590        ...          \n",
      "602              0.88       2780.0    4.51        14979        ...          \n",
      "609              0.89       1068.0   33.93         4975        ...          \n",
      "632              0.33       2457.0   29.99          360        ...          \n",
      "648              0.97       1484.0  103.99        20276        ...          \n",
      "658              1.00       3692.0   92.66         8696        ...          \n",
      "659              0.96       1681.0   49.99        22651        ...          \n",
      "662              0.95       4694.0   48.87         1769        ...          \n",
      "663              0.35       1008.0   48.87         1769        ...          \n",
      "671              0.78       2968.0   19.99         6890        ...          \n",
      "676              0.94       1182.0  169.90         6123        ...          \n",
      "678              0.88       2433.0   69.75         4532        ...          \n",
      "692              0.89        894.0    1.69         4324        ...          \n",
      "704              0.97        332.0   17.91         4298        ...          \n",
      "\n",
      "      percent_GROUP_1  percent_GROUP_2  percent_GROUP_3  percent_GROUP_4  \\\n",
      "32           0.011743         0.007881         0.000000         0.003414   \n",
      "1637         0.046771         0.000000         0.000000         0.000000   \n",
      "1811         0.026335         0.010290         0.000000         0.039473   \n",
      "3735         0.013123         0.013349         0.000000         0.043483   \n",
      "1            0.031799         0.000000         0.013484         0.021646   \n",
      "2            0.040191         0.000000         0.000000         0.000000   \n",
      "11           0.072274         0.000000         0.001915         0.009517   \n",
      "13           0.065215         0.000000         0.000000         0.011278   \n",
      "14           0.053819         0.000000         0.000000         0.000000   \n",
      "19           0.032297         0.000000         0.000000         0.007957   \n",
      "24           0.020575         0.000000         0.005871         0.000000   \n",
      "37           0.017592         0.005213         0.000000         0.016570   \n",
      "42           0.032415         0.001453         0.007930         0.013497   \n",
      "45           0.031706         0.001384         0.000000         0.001030   \n",
      "50           0.057923         0.000000         0.000000         0.005841   \n",
      "72           0.022780         0.000000         0.000000         0.016962   \n",
      "89           0.026146         0.000000         0.000000         0.000000   \n",
      "91           0.055848         0.000000         0.000000         0.009389   \n",
      "96           0.015149         0.000000         0.000000         0.000000   \n",
      "111          0.023442         0.000000         0.000000         0.000000   \n",
      "124          0.044032         0.000000         0.000000         0.008113   \n",
      "126          0.037495         0.000000         0.000000         0.000000   \n",
      "131          0.032198         0.004708         0.000000         0.014346   \n",
      "135          0.016515         0.000000         0.000000         0.000000   \n",
      "166          0.057353         0.000000         0.000000         0.004109   \n",
      "173          0.051642         0.000000         0.000000         0.000000   \n",
      "179          0.029654         0.003430         0.000000         0.000000   \n",
      "184          0.056059         0.000000         0.000000         0.000000   \n",
      "187          0.022153         0.003107         0.000000         0.000000   \n",
      "192          0.051950         0.000000         0.000000         0.000000   \n",
      "...               ...              ...              ...              ...   \n",
      "514          0.057806         0.000000         0.000000         0.042583   \n",
      "519          0.026921         0.000000         0.000000         0.000776   \n",
      "523          0.028951         0.000000         0.000000         0.000000   \n",
      "524          0.044198         0.000000         0.000000         0.000000   \n",
      "528          0.026651         0.000000         0.000000         0.000000   \n",
      "534          0.015813         0.007183         0.000000         0.015324   \n",
      "540          0.051846         0.002194         0.000000         0.000000   \n",
      "546          0.068061         0.000000         0.000000         0.000000   \n",
      "556          0.054219         0.000000         0.000000         0.000583   \n",
      "561          0.007797         0.000000         0.000000         0.000000   \n",
      "571          0.020326         0.005345         0.000000         0.000773   \n",
      "573          0.049926         0.021683         0.000000         0.000000   \n",
      "575          0.074632         0.000000         0.000000         0.000000   \n",
      "576          0.044241         0.005794         0.000000         0.004638   \n",
      "579          0.039870         0.000000         0.000000         0.000000   \n",
      "585          0.043876         0.000000         0.000000         0.000000   \n",
      "595          0.058977         0.000000         0.000000         0.000000   \n",
      "602          0.053229         0.000000         0.000000         0.000528   \n",
      "609          0.029349         0.000000         0.000000         0.000000   \n",
      "632          0.025411         0.067893         0.101855         0.015295   \n",
      "648          0.052219         0.000000         0.000000         0.003533   \n",
      "658          0.031721         0.000000         0.000000         0.000000   \n",
      "659          0.060145         0.001694         0.000000         0.000000   \n",
      "662          0.055041         0.000000         0.002901         0.000000   \n",
      "663          0.051402         0.000000         0.000000         0.001351   \n",
      "671          0.077292         0.000000         0.000000         0.000000   \n",
      "676          0.072345         0.000191         0.002913         0.014055   \n",
      "678          0.038073         0.000000         0.005504         0.001368   \n",
      "692          0.029601         0.004314         0.001149         0.000000   \n",
      "704          0.003742         0.000000         0.000000         0.012481   \n",
      "\n",
      "      percent_GROUP_5  percent_GROUP_6  percent_GROUP_7  percent_GROUP_8  \\\n",
      "32           0.000000         0.000000         0.000000         0.000000   \n",
      "1637         0.000000         0.000000         0.000000         0.000000   \n",
      "1811         0.000000         0.000000         0.000000         0.004046   \n",
      "3735         0.002690         0.000000         0.000000         0.000000   \n",
      "1            0.000000         0.014966         0.000000         0.000000   \n",
      "2            0.000000         0.000000         0.000000         0.000000   \n",
      "11           0.000000         0.000000         0.000000         0.000000   \n",
      "13           0.000000         0.000000         0.000000         0.000000   \n",
      "14           0.000000         0.000000         0.000000         0.000000   \n",
      "19           0.000000         0.000000         0.000000         0.008671   \n",
      "24           0.000000         0.000000         0.000000         0.000000   \n",
      "37           0.000000         0.000000         0.000000         0.000000   \n",
      "42           0.000000         0.000000         0.000000         0.000000   \n",
      "45           0.000000         0.000000         0.000000         0.000000   \n",
      "50           0.000000         0.000000         0.000000         0.000000   \n",
      "72           0.000000         0.000000         0.004716         0.000000   \n",
      "89           0.000000         0.000000         0.015856         0.000000   \n",
      "91           0.000000         0.000000         0.000000         0.000000   \n",
      "96           0.000000         0.000000         0.000000         0.010193   \n",
      "111          0.000000         0.000000         0.207150         0.000000   \n",
      "124          0.000000         0.000000         0.000000         0.000000   \n",
      "126          0.000000         0.000000         0.007323         0.000000   \n",
      "131          0.000000         0.162184         0.000000         0.000000   \n",
      "135          0.000000         0.000000         0.221873         0.000000   \n",
      "166          0.000000         0.000000         0.000000         0.000000   \n",
      "173          0.000000         0.000000         0.000000         0.000000   \n",
      "179          0.000000         0.000000         0.000000         0.006643   \n",
      "184          0.000000         0.000000         0.000000         0.000000   \n",
      "187          0.000000         0.000000         0.000000         0.008495   \n",
      "192          0.006184         0.000000         0.000000         0.000000   \n",
      "...               ...              ...              ...              ...   \n",
      "514          0.000000         0.000000         0.000000         0.000000   \n",
      "519          0.000000         0.000000         0.000000         0.000000   \n",
      "523          0.000000         0.000000         0.000000         0.000000   \n",
      "524          0.000000         0.000000         0.007364         0.000000   \n",
      "528          0.000000         0.000000         0.011749         0.025054   \n",
      "534          0.000000         0.000000         0.000000         0.000000   \n",
      "540          0.000000         0.007691         0.000000         0.000000   \n",
      "546          0.000000         0.007638         0.000000         0.000000   \n",
      "556          0.000000         0.000000         0.000000         0.000000   \n",
      "561          0.205577         0.000000         0.000000         0.000000   \n",
      "571          0.000000         0.000000         0.000000         0.000000   \n",
      "573          0.000000         0.000000         0.000000         0.000000   \n",
      "575          0.000000         0.000000         0.000000         0.000000   \n",
      "576          0.000000         0.000000         0.000000         0.000000   \n",
      "579          0.000000         0.000000         0.037700         0.000000   \n",
      "585          0.000000         0.000000         0.000000         0.000000   \n",
      "595          0.000000         0.000000         0.000000         0.000000   \n",
      "602          0.000000         0.000000         0.000000         0.000000   \n",
      "609          0.000000         0.000000         0.000000         0.000000   \n",
      "632          0.004202         0.000000         0.000000         0.024719   \n",
      "648          0.000000         0.000561         0.000000         0.009826   \n",
      "658          0.000000         0.000000         0.000000         0.000000   \n",
      "659          0.000000         0.030839         0.000000         0.000000   \n",
      "662          0.000000         0.021140         0.005058         0.000000   \n",
      "663          0.000000         0.000000         0.000000         0.000000   \n",
      "671          0.000000         0.000000         0.000000         0.000000   \n",
      "676          0.000000         0.000761         0.033937         0.000000   \n",
      "678          0.000000         0.196070         0.000000         0.000000   \n",
      "692          0.000000         0.005671         0.002804         0.000000   \n",
      "704          0.000000         0.000000         0.000000         0.086710   \n",
      "\n",
      "      percent_GROUP_9  percent_GROUP_10  \n",
      "32           0.000000          0.000000  \n",
      "1637         0.000000          0.000000  \n",
      "1811         0.000000          0.000000  \n",
      "3735         0.000000          0.000000  \n",
      "1            0.000000          0.000000  \n",
      "2            0.000000          0.000000  \n",
      "11           0.000000          0.000000  \n",
      "13           0.000000          0.000000  \n",
      "14           0.000000          0.000000  \n",
      "19           0.000000          0.000000  \n",
      "24           0.000000          0.000000  \n",
      "37           0.000000          0.000000  \n",
      "42           0.000000          0.000000  \n",
      "45           0.000000          0.000000  \n",
      "50           0.000000          0.000000  \n",
      "72           0.000000          0.000000  \n",
      "89           0.000000          0.000000  \n",
      "91           0.000000          0.000000  \n",
      "96           0.000000          0.000000  \n",
      "111          0.091477          0.000000  \n",
      "124          0.000000          0.000000  \n",
      "126          0.000000          0.000000  \n",
      "131          0.000000          0.000000  \n",
      "135          0.000000          0.000000  \n",
      "166          0.000000          0.000000  \n",
      "173          0.000000          0.000000  \n",
      "179          0.000000          0.000000  \n",
      "184          0.000000          0.000000  \n",
      "187          0.000000          0.000000  \n",
      "192          0.000000          0.000000  \n",
      "...               ...               ...  \n",
      "514          0.000000          0.000000  \n",
      "519          0.000000          0.000000  \n",
      "523          0.000000          0.000000  \n",
      "524          0.000000          0.000000  \n",
      "528          0.000474          0.000000  \n",
      "534          0.000000          0.000000  \n",
      "540          0.000000          0.000000  \n",
      "546          0.026163          0.000000  \n",
      "556          0.000000          0.000000  \n",
      "561          0.000000          0.000000  \n",
      "571          0.000000          0.000000  \n",
      "573          0.000000          0.000000  \n",
      "575          0.000000          0.000000  \n",
      "576          0.000000          0.000000  \n",
      "579          0.000000          0.000000  \n",
      "585          0.000000          0.000000  \n",
      "595          0.000000          0.000000  \n",
      "602          0.000000          0.000000  \n",
      "609          0.000000          0.000000  \n",
      "632          0.000000          0.000847  \n",
      "648          0.000000          0.000000  \n",
      "658          0.221047          0.000000  \n",
      "659          0.086222          0.000000  \n",
      "662          0.000000          0.000000  \n",
      "663          0.000000          0.000000  \n",
      "671          0.000000          0.000000  \n",
      "676          0.000000          0.000000  \n",
      "678          0.000000          0.000000  \n",
      "692          0.000000          0.000000  \n",
      "704          0.000000          0.000000  \n",
      "\n",
      "[100 rows x 93 columns]\n"
     ]
    },
    {
     "name": "stdout",
     "output_type": "stream",
     "text": [
      "--- 47.3345038891 seconds ---\n"
     ]
    }
   ],
   "source": [
    "df_test_new = dp.df_prep_test(df_test, tfidf_model,NMF_model, TFIDF_feat_model, 'Video Games')"
   ]
  },
  {
   "cell_type": "markdown",
   "metadata": {},
   "source": [
    "-----------------"
   ]
  },
  {
   "cell_type": "markdown",
   "metadata": {},
   "source": [
    "### Taking out columns that are all 0\n",
    "\n",
    "Before running ensemble method algorithm,  \n",
    "I want to identify any columns that only have value 0 in my training set.  \n",
    "These columns will not affect my prediction results and should be removed to reduce dimensionality of my model.  \n",
    "  \n",
    "In order to do this, I identify these columns from my training dataset first and  \n",
    "removed them from both training and test dataset.  \n",
    "Test dataset may contain columns with zero values that are different from training set.  \n",
    "However, these will be kept in our dataset because we only care about columns with zeros  \n",
    "in our training set during our model building process."
   ]
  },
  {
   "cell_type": "code",
   "execution_count": 9,
   "metadata": {},
   "outputs": [
    {
     "name": "stdout",
     "output_type": "stream",
     "text": [
      "Index([u'Drums', u'Skins', u'Fire TV'], dtype='object')\n"
     ]
    }
   ],
   "source": [
    "zero_columns_train = df_train_new.columns[(df_train_new == 0).all()]\n",
    "print zero_columns_train"
   ]
  },
  {
   "cell_type": "code",
   "execution_count": 10,
   "metadata": {
    "collapsed": true
   },
   "outputs": [],
   "source": [
    "df_train_new = df_train_new.drop(zero_columns_train, 1)\n",
    "df_test_new = df_test_new.drop(zero_columns_train,1)"
   ]
  },
  {
   "cell_type": "markdown",
   "metadata": {},
   "source": [
    "## making XGboost model"
   ]
  },
  {
   "cell_type": "markdown",
   "metadata": {},
   "source": [
    "### preparing labels for prediction modeling\n",
    "Before running prediction model with XGboost, we want to create labels for our model. \n",
    "For this prediction model, I created a feature called 'helpful_percent'  \n",
    "which indicates percentage of user voted review as helpful review.\n",
    "I want to split this feature into two groups to make my prediction model binary classifier.\n",
    "\n",
    "the function **label_prep** is a function that prepares label feature.\n",
    "It also prints out total number of reviews that belongs LOW and HIGH label class in your data frame.  \n",
    "\n",
    "input:\n",
    "**dp.label_prep( a , b )**\n",
    "a = train or test dataframe.  \n",
    "b = float value that splits label.  \n",
    "the label feature has value HIGH or LOW.  \n",
    "If the 'helpful_precent' is higher than the value of b, label == HIGH.  \n",
    "If the 'helpful_precent' is lower than the value of b, label == LOW.  \n",
    "I usually set this values around 0.75 to 0.9.  \n",
    "What I care most here is predicting HIGH correctly."
   ]
  },
  {
   "cell_type": "code",
   "execution_count": 11,
   "metadata": {},
   "outputs": [
    {
     "name": "stdout",
     "output_type": "stream",
     "text": [
      "training data:  \n",
      "highly helpful count: 2232\n",
      "not helpful count: 1366\n"
     ]
    }
   ],
   "source": [
    "#df = pd.read_pickle(\"./preped_videogame_1000_df.pkl\")\n",
    "print \"training data:  \"\n",
    "df_train_new = dp.label_prep(df_train_new, 0.75)"
   ]
  },
  {
   "cell_type": "code",
   "execution_count": 12,
   "metadata": {},
   "outputs": [
    {
     "name": "stdout",
     "output_type": "stream",
     "text": [
      "test data: \n",
      "highly helpful count: 394\n",
      "not helpful count: 242\n"
     ]
    }
   ],
   "source": [
    "print \"test data: \"\n",
    "df_test_new = dp.label_prep(df_test_new,0.75)"
   ]
  },
  {
   "cell_type": "markdown",
   "metadata": {},
   "source": [
    "### adjusting number of data in training and test sets\n",
    "Another step you want to apply before applying XGboost.\n",
    "Since training and test dataframe most likely have unbalanced label classes (HIGH and LOW),  \n",
    "we want to balance label classes by randomly select set numbers of reviews from each class.  \n",
    "From the print statement of previous step (label_prep), you know how many reviews exist in both HIGH and LOW label class.  \n",
    "Select a number so that the number of reviews for HIGH and LOW are about same.  \n",
    "  \n",
    "For example:  \n",
    "if label_prep prints out:\n",
    "  \n",
    "highly helpful count: 34290  \n",
    "not helpful count: 25345  \n",
    "\n",
    "I would select number 25000 (if you really want to increase number of reviews, 27500?).  \n",
    "  \n",
    "input:  \n",
    "**df_for_XGBOOST**( a , b )  \n",
    "a = dataframe  \n",
    "b = maximum number of reviews in each label class.  "
   ]
  },
  {
   "cell_type": "code",
   "execution_count": 13,
   "metadata": {
    "collapsed": true,
    "scrolled": true
   },
   "outputs": [],
   "source": [
    "train_X, train_y, df_new_train = dp.df_for_XGBOOST(df_train_new,1400)\n",
    "test_X, test_y, df_new_test = dp.df_for_XGBOOST(df_test_new,2000)"
   ]
  },
  {
   "cell_type": "markdown",
   "metadata": {},
   "source": [
    "### XGboost model\n",
    "function **XGBOOSTING** creates XGboost model, fits training dataset and prints out test data accuracy score.\n",
    "\n",
    "inputs:\n",
    "**XGBOOSTING(train_X,test_X,train_y,test_y,xgb_para=[4000,0.15])**\n",
    "a = X train  \n",
    "b = X test  \n",
    "c = label train  \n",
    "d = label test  \n",
    "e = parameters for XGboost. xgb_para = [4000,0.15]  \n",
    "where xgb = XGB.XGBClassifier(n_estimators=xgb_para[0], learning_rate=xgb_para[1])  \n",
    "  \n",
    "  \n",
    "### Random Forest model\n",
    "function **r_forest** runs random frest insted of XGBoost. Only difference is the parameter.  \n",
    "  \n",
    "inputs:  \n",
    "**r_forest(train_X,test_X,train_y,test_y,parameter=[1000,'auto',none])**  \n",
    "parameter = [1000,'auto',None]  \n",
    "where rf = RandomForestClassifier(n_estimators=parameter[0], max_features = parameter[1], max_depth=parameter[2])  "
   ]
  },
  {
   "cell_type": "code",
   "execution_count": 14,
   "metadata": {},
   "outputs": [
    {
     "name": "stdout",
     "output_type": "stream",
     "text": [
      "--- 21.9913899899 seconds ---\n",
      "RF score: 86.32%\n"
     ]
    }
   ],
   "source": [
    "#model = dp.XGBOOSTING(train_X,test_X,train_y,test_y,xgb_para=[4000,0.15])\n",
    "model = dp.r_forest(train_X,test_X,train_y,test_y, [1000,50,None])"
   ]
  },
  {
   "cell_type": "markdown",
   "metadata": {},
   "source": [
    "### XGboost stats (Important Features and confusion matrix)\n",
    "following function prints out Top15 important features of the prediction model,  \n",
    "confusion matrix that is in the markdown format table,  \n",
    "LOW prediction rate and HIGH prediction rate.  \n",
    "\n",
    "input:  \n",
    "**xgb_stats**( a , b , c , d )  \n",
    "a = XGboost model  \n",
    "b = dataframe (an output of df_for_XGBOOST function)  \n",
    "c = test X data  \n",
    "d = test label data  "
   ]
  },
  {
   "cell_type": "code",
   "execution_count": 15,
   "metadata": {
    "scrolled": true
   },
   "outputs": [
    {
     "name": "stdout",
     "output_type": "stream",
     "text": [
      " **TOP15 Important Features**  \n",
      "leave : 0.672773805517%  \n",
      "new : 0.699647532105%  \n",
      "Accessories : 0.818463379415%  \n",
      "percent_GROUP_1 : 0.84741773711%  \n",
      "feature : 0.853787932902%  \n",
      "enjoy : 0.907305699071%  \n",
      "percent_GROUP_4 : 0.960251319721%  \n",
      "sort : 1.10448132333%  \n",
      "die : 1.12857298946%  \n",
      "surprise : 1.22353217363%  \n",
      "price : 1.42303649998%  \n",
      "gamecube : 1.61354571494%  \n",
      "rank_values : 3.45245920816%  \n",
      "text_length : 6.00004820027%  \n",
      "overall : 8.50613117299%  \n",
      "\n",
      "\n",
      " |                 |       NOT HELPFUL TRUE       |        HIGHLY HELPFUL TRUE        |\n",
      "     |:--------------: | :-------------------:|:-----------------------:|\n",
      "     |       NOT HELPFUL PRED     |        205.0        |           50.0        |\n",
      "     |        HIGHLY HELPFUL PRED     |        37.0        |           344.0        |\n",
      "\n",
      "LOW prediction rate: 84.71%\n",
      "HIGH prediction rate: 87.31%\n",
      "\n"
     ]
    }
   ],
   "source": [
    "dp.xgb_stats(model,df_new_test,test_X,test_y)"
   ]
  },
  {
   "cell_type": "markdown",
   "metadata": {},
   "source": [
    "----------\n"
   ]
  },
  {
   "cell_type": "markdown",
   "metadata": {},
   "source": [
    "## Results"
   ]
  },
  {
   "cell_type": "markdown",
   "metadata": {
    "collapsed": true
   },
   "source": [
    "### XGB RESULTS with 75% threshold\n",
    "  \n",
    "n_estimators=2000,learning_rate=0.1,subsample =0.9, max_depth =25, gamma = 0.3, colsample_bytree =0.8, reg_alpha = 0.01  \n",
    "Computation: 2025.37363505 seconds  \n",
    "score: 77.24%  \n",
    " **TOP15 Important Features**  \n",
    "percent_GROUP_5 : 1.06626739725%  \n",
    "overall : 1.06887128204%  \n",
    "plan : 1.08449421823%  \n",
    "tank : 1.10662672669%  \n",
    "canister : 1.14698605612%  \n",
    "unit : 1.20166642591%  \n",
    "bring : 1.30321569741%  \n",
    "percent_GROUP_3 : 1.35008459911%  \n",
    "firm : 1.64041146636%  \n",
    "percent_GROUP_8 : 1.82528309524%  \n",
    "percent_GROUP_1 : 2.2015362978%  \n",
    "text_length : 3.62322628498%  \n",
    "percent_GROUP_10 : 3.6336414516%  \n",
    "price : 3.9552140981%  \n",
    "rank_values : 4.77411784232%  \n",
    "\n",
    "\n",
    " |                 |       NOT HELPFUL TRUE       |        HIGHLY HELPFUL TRUE        |  \n",
    "     |:--------------: | :-------------------:|:-----------------------:|  \n",
    "     |       NOT HELPFUL PRED     |        1426.0        |           473.0        |  \n",
    "     |        HIGHLY HELPFUL PRED     |        397.0        |           1527.0        |  \n",
    "  \n",
    "LOW prediction rate: 78.22%  \n",
    "HIGH prediction rate: 76.35%  "
   ]
  },
  {
   "cell_type": "markdown",
   "metadata": {},
   "source": [
    "### Best Random Forest result with 75% threshold\n",
    "  \n",
    "1000,50,None  \n",
    "224 sec.  \n",
    "Overall accuracy: 76.82%  \n",
    "**TOP15 Important Features**  \n",
    "bring : 0.583035827847%  \n",
    "tank : 0.595895823154%  \n",
    "canister : 0.630979208038%  \n",
    "whatev : 0.656540650705%  \n",
    "percent_GROUP_3 : 0.672279437706%  \n",
    "percent_GROUP_8 : 0.802946732109%  \n",
    "percent_GROUP_10 : 0.885243888022%  \n",
    "percent_GROUP_1 : 0.888022789254%  \n",
    "firm : 0.905402625438%  \n",
    "rank_values : 1.02694375671%  \n",
    "loud : 1.09024337464%  \n",
    "price : 1.33508923173%  \n",
    "main : 1.36355712797%  \n",
    "text_length : 2.80382163106%  \n",
    "overall : 8.20653149646%  \n",
    "\n",
    "\n",
    " |                 |       NOT HELPFUL TRUE       |        HIGHLY HELPFUL TRUE        |  \n",
    "     |:--------------: | :-------------------:|:-----------------------:|  \n",
    "     |       NOT HELPFUL PRED     |        1492.0        |           555.0        |  \n",
    "     |        HIGHLY HELPFUL PRED     |        331.0        |           1445.0        |  \n",
    "\n",
    "LOW prediction rate: 81.84%  \n",
    "HIGH prediction rate: 72.25%  "
   ]
  },
  {
   "cell_type": "markdown",
   "metadata": {},
   "source": [
    "#### gridsearchcv:"
   ]
  },
  {
   "cell_type": "code",
   "execution_count": 7,
   "metadata": {
    "collapsed": true
   },
   "outputs": [],
   "source": [
    "param_test1 = {\n",
    " 'min_child_weight':range(1,6,2)}"
   ]
  },
  {
   "cell_type": "code",
   "execution_count": 11,
   "metadata": {},
   "outputs": [
    {
     "name": "stdout",
     "output_type": "stream",
     "text": [
      "Computation: 24289.086812 seconds  \n"
     ]
    }
   ],
   "source": [
    "start_time = time.time()\n",
    "gsearch = GridSearchCV(estimator = XGB.XGBClassifier( learning_rate =0.1, n_estimators=2000, max_depth=25,\n",
    " min_child_weight=1, subsample=0.9), param_grid = param_test1, cv=5)\n",
    "gsearch.fit(train_X,train_y)\n",
    "gsearch.best_score_, gsearch.best_params_, gsearch.best_estimator_\n",
    "print(\"Computation: %s seconds  \" % (time.time() - start_time))"
   ]
  },
  {
   "cell_type": "code",
   "execution_count": 12,
   "metadata": {},
   "outputs": [
    {
     "data": {
      "text/plain": [
       "0.7902"
      ]
     },
     "execution_count": 12,
     "metadata": {},
     "output_type": "execute_result"
    }
   ],
   "source": [
    "gsearch.best_score_"
   ]
  },
  {
   "cell_type": "code",
   "execution_count": 13,
   "metadata": {},
   "outputs": [
    {
     "data": {
      "text/plain": [
       "({u'min_child_weight': 1},\n",
       " XGBClassifier(base_score=0.5, colsample_bylevel=1, colsample_bytree=1,\n",
       "        gamma=0, learning_rate=0.1, max_delta_step=0, max_depth=25,\n",
       "        min_child_weight=1, missing=None, n_estimators=2000, nthread=-1,\n",
       "        objective='binary:logistic', reg_alpha=0, reg_lambda=1,\n",
       "        scale_pos_weight=1, seed=0, silent=True, subsample=0.9))"
      ]
     },
     "execution_count": 13,
     "metadata": {},
     "output_type": "execute_result"
    }
   ],
   "source": [
    "gsearch.best_params_, gsearch.best_estimator_"
   ]
  },
  {
   "cell_type": "code",
   "execution_count": null,
   "metadata": {
    "collapsed": true
   },
   "outputs": [],
   "source": []
  }
 ],
 "metadata": {
  "kernelspec": {
   "display_name": "Python 2",
   "language": "python",
   "name": "python2"
  },
  "language_info": {
   "codemirror_mode": {
    "name": "ipython",
    "version": 2
   },
   "file_extension": ".py",
   "mimetype": "text/x-python",
   "name": "python",
   "nbconvert_exporter": "python",
   "pygments_lexer": "ipython2",
   "version": "2.7.13"
  }
 },
 "nbformat": 4,
 "nbformat_minor": 2
}
